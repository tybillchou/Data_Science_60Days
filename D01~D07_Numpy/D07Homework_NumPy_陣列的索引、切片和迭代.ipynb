{
 "cells": [
  {
   "cell_type": "markdown",
   "metadata": {
    "colab_type": "text",
    "id": "P6xk2_jLsvFF"
   },
   "source": [
    "# [作業目標]\n",
    "\n",
    "1. 請比較對一個 100 x 100 * 100 的陣列，使用不同方法對每一個元素 +1 的時間比較。\n",
    "\n",
    "2. 如何從一個陣列中，找出出現頻率最高的數值與位置？\n",
    "\n",
    "3. 如何利用 list(...) 實現 a.tolist() 的效果？試著用程式實作。\n"
   ]
  },
  {
   "cell_type": "markdown",
   "metadata": {
    "colab_type": "text",
    "id": "uXGll28asvFS"
   },
   "source": [
    "# 作業 "
   ]
  },
  {
   "cell_type": "markdown",
   "metadata": {},
   "source": [
    "### 1. 請比較對一個 1000 x 100 x 100 的陣列，使用不同方法對每一個元素 +1 的時間比較。\n",
    "\n",
    "\n"
   ]
  },
  {
   "cell_type": "code",
   "execution_count": 1,
   "metadata": {},
   "outputs": [],
   "source": [
    "# 記得先 Import 正確的套件\n",
    "import numpy as np"
   ]
  },
  {
   "cell_type": "code",
   "execution_count": 40,
   "metadata": {
    "colab": {},
    "colab_type": "code",
    "id": "5QrYoyNWsvFS"
   },
   "outputs": [],
   "source": [
    "Z = np.random.randint(0, 10, 1000000).reshape(100, 100, 100)"
   ]
  },
  {
   "cell_type": "code",
   "execution_count": 41,
   "metadata": {},
   "outputs": [
    {
     "name": "stdout",
     "output_type": "stream",
     "text": [
      "41.1 ns ± 13 ns per loop (mean ± std. dev. of 7 runs, 10 loops each)\n"
     ]
    },
    {
     "data": {
      "text/plain": [
       "array([[[ 1,  7,  4, ...,  5, 10,  6],\n",
       "        [ 6, 10,  1, ...,  8,  8,  6],\n",
       "        [ 6,  9,  9, ...,  5,  7,  8],\n",
       "        ...,\n",
       "        [ 8,  2,  4, ...,  8,  8,  2],\n",
       "        [ 3,  3,  6, ...,  6,  5,  9],\n",
       "        [ 4,  7,  6, ...,  2,  3,  2]],\n",
       "\n",
       "       [[ 1,  7,  9, ...,  5,  4,  7],\n",
       "        [ 5,  2,  2, ...,  5,  4,  4],\n",
       "        [10,  1, 10, ...,  6,  5,  1],\n",
       "        ...,\n",
       "        [ 3,  1,  8, ...,  2,  5,  9],\n",
       "        [ 5,  1,  3, ...,  2,  5,  7],\n",
       "        [ 9,  7,  8, ...,  9,  7,  5]],\n",
       "\n",
       "       [[ 2,  4,  3, ...,  6,  9,  7],\n",
       "        [ 9,  4,  4, ...,  8,  6,  9],\n",
       "        [ 8,  3,  8, ...,  6,  1,  2],\n",
       "        ...,\n",
       "        [ 3,  8,  6, ...,  9,  8,  5],\n",
       "        [ 9,  5,  7, ...,  6,  1, 10],\n",
       "        [10,  4, 10, ...,  2,  2,  1]],\n",
       "\n",
       "       ...,\n",
       "\n",
       "       [[ 8,  8,  5, ...,  5,  7,  9],\n",
       "        [ 7,  6, 10, ...,  6,  7,  5],\n",
       "        [ 9,  2,  5, ...,  4,  5,  2],\n",
       "        ...,\n",
       "        [ 8,  4,  1, ...,  6,  2,  9],\n",
       "        [ 3,  9,  8, ...,  9,  3,  5],\n",
       "        [ 4,  2,  7, ...,  2,  9,  9]],\n",
       "\n",
       "       [[ 5,  3,  4, ..., 10,  5,  5],\n",
       "        [ 2,  3,  1, ..., 10,  6,  2],\n",
       "        [ 2,  2,  3, ...,  7,  3, 10],\n",
       "        ...,\n",
       "        [ 1,  7,  8, ...,  5,  8,  2],\n",
       "        [ 2,  9,  4, ...,  4,  7,  8],\n",
       "        [ 1,  7,  6, ...,  5,  5,  3]],\n",
       "\n",
       "       [[ 2,  2, 10, ...,  7,  3,  4],\n",
       "        [ 3,  6,  7, ...,  4,  4,  3],\n",
       "        [ 3,  9,  1, ...,  2,  8,  2],\n",
       "        ...,\n",
       "        [ 9,  3, 10, ...,  2,  2, 10],\n",
       "        [ 3,  1, 10, ...,  3,  6,  4],\n",
       "        [ 1,  4,  4, ...,  7, 10, 10]]])"
      ]
     },
     "execution_count": 41,
     "metadata": {},
     "output_type": "execute_result"
    }
   ],
   "source": [
    "%timeit -n 10 a = 2\n",
    "\n",
    "Z+1"
   ]
  },
  {
   "cell_type": "code",
   "execution_count": 42,
   "metadata": {},
   "outputs": [
    {
     "name": "stdout",
     "output_type": "stream",
     "text": [
      "36.8 ns ± 12.5 ns per loop (mean ± std. dev. of 7 runs, 10 loops each)\n"
     ]
    }
   ],
   "source": [
    "%timeit -n 10 a = 2\n",
    "c = (Z.flat+np.array([1])).reshape(100,100,100)\n"
   ]
  },
  {
   "cell_type": "code",
   "execution_count": 43,
   "metadata": {},
   "outputs": [
    {
     "data": {
      "text/plain": [
       "array([[[ 1,  7,  4, ...,  5, 10,  6],\n",
       "        [ 6, 10,  1, ...,  8,  8,  6],\n",
       "        [ 6,  9,  9, ...,  5,  7,  8],\n",
       "        ...,\n",
       "        [ 8,  2,  4, ...,  8,  8,  2],\n",
       "        [ 3,  3,  6, ...,  6,  5,  9],\n",
       "        [ 4,  7,  6, ...,  2,  3,  2]],\n",
       "\n",
       "       [[ 1,  7,  9, ...,  5,  4,  7],\n",
       "        [ 5,  2,  2, ...,  5,  4,  4],\n",
       "        [10,  1, 10, ...,  6,  5,  1],\n",
       "        ...,\n",
       "        [ 3,  1,  8, ...,  2,  5,  9],\n",
       "        [ 5,  1,  3, ...,  2,  5,  7],\n",
       "        [ 9,  7,  8, ...,  9,  7,  5]],\n",
       "\n",
       "       [[ 2,  4,  3, ...,  6,  9,  7],\n",
       "        [ 9,  4,  4, ...,  8,  6,  9],\n",
       "        [ 8,  3,  8, ...,  6,  1,  2],\n",
       "        ...,\n",
       "        [ 3,  8,  6, ...,  9,  8,  5],\n",
       "        [ 9,  5,  7, ...,  6,  1, 10],\n",
       "        [10,  4, 10, ...,  2,  2,  1]],\n",
       "\n",
       "       ...,\n",
       "\n",
       "       [[ 8,  8,  5, ...,  5,  7,  9],\n",
       "        [ 7,  6, 10, ...,  6,  7,  5],\n",
       "        [ 9,  2,  5, ...,  4,  5,  2],\n",
       "        ...,\n",
       "        [ 8,  4,  1, ...,  6,  2,  9],\n",
       "        [ 3,  9,  8, ...,  9,  3,  5],\n",
       "        [ 4,  2,  7, ...,  2,  9,  9]],\n",
       "\n",
       "       [[ 5,  3,  4, ..., 10,  5,  5],\n",
       "        [ 2,  3,  1, ..., 10,  6,  2],\n",
       "        [ 2,  2,  3, ...,  7,  3, 10],\n",
       "        ...,\n",
       "        [ 1,  7,  8, ...,  5,  8,  2],\n",
       "        [ 2,  9,  4, ...,  4,  7,  8],\n",
       "        [ 1,  7,  6, ...,  5,  5,  3]],\n",
       "\n",
       "       [[ 2,  2, 10, ...,  7,  3,  4],\n",
       "        [ 3,  6,  7, ...,  4,  4,  3],\n",
       "        [ 3,  9,  1, ...,  2,  8,  2],\n",
       "        ...,\n",
       "        [ 9,  3, 10, ...,  2,  2, 10],\n",
       "        [ 3,  1, 10, ...,  3,  6,  4],\n",
       "        [ 1,  4,  4, ...,  7, 10, 10]]])"
      ]
     },
     "execution_count": 43,
     "metadata": {},
     "output_type": "execute_result"
    }
   ],
   "source": [
    "c"
   ]
  },
  {
   "cell_type": "code",
   "execution_count": 44,
   "metadata": {},
   "outputs": [
    {
     "name": "stdout",
     "output_type": "stream",
     "text": [
      "37 ns ± 10.6 ns per loop (mean ± std. dev. of 7 runs, 10 loops each)\n"
     ]
    },
    {
     "data": {
      "text/plain": [
       "'\\nYour Code\\n'"
      ]
     },
     "execution_count": 44,
     "metadata": {},
     "output_type": "execute_result"
    }
   ],
   "source": [
    "%timeit -n 10 a = 2\n",
    "\n",
    "'''\n",
    "Your Code\n",
    "'''"
   ]
  },
  {
   "cell_type": "markdown",
   "metadata": {},
   "source": [
    "### 2. 如何從一個陣列中，找出出現頻率最高的數值與位置？\n"
   ]
  },
  {
   "cell_type": "code",
   "execution_count": 45,
   "metadata": {
    "colab": {},
    "colab_type": "code",
    "id": "e1gVI0tvsvFY"
   },
   "outputs": [
    {
     "name": "stdout",
     "output_type": "stream",
     "text": [
      "[0 7 3 1 5 8 0 8 5 7 5 4 7 3 2 2 2 3 7 0 1 7 6 5 2 2 3 6 2 3 7 6 0 1 0 7 7\n",
      " 2 4 0 7 1 1 8 8 5 0 9 5 8]\n"
     ]
    }
   ],
   "source": [
    "\n",
    "x = np.random.randint(0,10,50)\n",
    "print(x)\n"
   ]
  },
  {
   "cell_type": "code",
   "execution_count": 47,
   "metadata": {},
   "outputs": [
    {
     "data": {
      "text/plain": [
       "array([7, 5, 7, 5, 2, 6, 3, 9, 5, 1])"
      ]
     },
     "execution_count": 47,
     "metadata": {},
     "output_type": "execute_result"
    }
   ],
   "source": [
    "np.bincount(x) #索引為x裡得值，bincount好的值為統計後的值"
   ]
  },
  {
   "cell_type": "code",
   "execution_count": 48,
   "metadata": {},
   "outputs": [
    {
     "data": {
      "text/plain": [
       "7"
      ]
     },
     "execution_count": 48,
     "metadata": {},
     "output_type": "execute_result"
    }
   ],
   "source": [
    "np.bincount(x).argmax()"
   ]
  },
  {
   "cell_type": "markdown",
   "metadata": {},
   "source": [
    "### 3. 如何利用 list(...) 實現 a.tolist() 的效果？試著用程式實作。\n"
   ]
  },
  {
   "cell_type": "code",
   "execution_count": 49,
   "metadata": {},
   "outputs": [
    {
     "name": "stdout",
     "output_type": "stream",
     "text": [
      "[7, 7, 1, 8, 6, 1]\n",
      "[7, 7, 1, 8, 6, 1]\n",
      "----------------------\n",
      "[[0, 2, 0, 1], [4, 0, 5, 3], [7, 1, 8, 1]]\n",
      "[array([0, 2, 0, 1]), array([4, 0, 5, 3]), array([7, 1, 8, 1])]\n",
      "----------------------\n",
      "[[[4, 7], [8, 9], [6, 1]], [[4, 8], [7, 4], [5, 4]]]\n",
      "[array([[4, 7],\n",
      "       [8, 9],\n",
      "       [6, 1]]), array([[4, 8],\n",
      "       [7, 4],\n",
      "       [5, 4]])]\n"
     ]
    }
   ],
   "source": [
    "a = np.random.randint(10, size=6) \n",
    "\n",
    "print(a.tolist())\n",
    "print(list(a))\n",
    "print('----------------------')\n",
    "\n",
    "b = np.random.randint(10, size=(3,4)) \n",
    "\n",
    "print(b.tolist())\n",
    "print(list(b))\n",
    "print('----------------------')\n",
    "\n",
    "c = np.random.randint(10, size=(2,3,2)) \n",
    "\n",
    "print(c.tolist())\n",
    "print(list(c))\n"
   ]
  }
 ],
 "metadata": {
  "colab": {
   "name": "Day_023_HW.ipynb",
   "provenance": []
  },
  "kernelspec": {
   "display_name": "Python 3",
   "language": "python",
   "name": "python3"
  },
  "language_info": {
   "codemirror_mode": {
    "name": "ipython",
    "version": 3
   },
   "file_extension": ".py",
   "mimetype": "text/x-python",
   "name": "python",
   "nbconvert_exporter": "python",
   "pygments_lexer": "ipython3",
   "version": "3.8.5"
  }
 },
 "nbformat": 4,
 "nbformat_minor": 1
}
